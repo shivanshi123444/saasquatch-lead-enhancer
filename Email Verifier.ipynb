{
 "cells": [
  {
   "cell_type": "markdown",
   "id": "5c1b8107",
   "metadata": {},
   "source": [
    "This notebook provides a step-by-step walkthrough of the email_verifier.py script, demonstrating its functionality for validating email addresses in a CSV file.\n",
    "\n",
    "1. Setup and Installation\n",
    "First, ensure you have the necessary libraries installed. If running this notebook in a new environment, execute the following cell to install pandas and dnspython."
   ]
  },
  {
   "cell_type": "code",
   "execution_count": 2,
   "id": "c0e1ef0b",
   "metadata": {},
   "outputs": [
    {
     "name": "stdout",
     "output_type": "stream",
     "text": [
      "Requirement already satisfied: pandas in c:\\users\\satis\\anaconda3\\lib\\site-packages (2.0.3)Note: you may need to restart the kernel to use updated packages.\n",
      "\n",
      "Requirement already satisfied: dnspython in c:\\users\\satis\\anaconda3\\lib\\site-packages (2.7.0)\n",
      "Requirement already satisfied: python-dateutil>=2.8.2 in c:\\users\\satis\\appdata\\roaming\\python\\python311\\site-packages (from pandas) (2.8.2)\n",
      "Requirement already satisfied: pytz>=2020.1 in c:\\users\\satis\\anaconda3\\lib\\site-packages (from pandas) (2023.3.post1)\n",
      "Requirement already satisfied: tzdata>=2022.1 in c:\\users\\satis\\anaconda3\\lib\\site-packages (from pandas) (2023.3)\n",
      "Requirement already satisfied: numpy>=1.21.0 in c:\\users\\satis\\anaconda3\\lib\\site-packages (from pandas) (1.24.3)\n",
      "Requirement already satisfied: six>=1.5 in c:\\users\\satis\\appdata\\roaming\\python\\python311\\site-packages (from python-dateutil>=2.8.2->pandas) (1.16.0)\n"
     ]
    }
   ],
   "source": [
    "%pip install pandas dnspython"
   ]
  },
  {
   "cell_type": "markdown",
   "id": "e3ec3030",
   "metadata": {},
   "source": [
    "2. Import Libraries\n",
    "Now, let's import the required Python libraries."
   ]
  },
  {
   "cell_type": "code",
   "execution_count": 3,
   "id": "5103c960",
   "metadata": {},
   "outputs": [],
   "source": [
    "import pandas as pd\n",
    "import re\n",
    "import dns.resolver\n",
    "import os"
   ]
  },
  {
   "cell_type": "markdown",
   "id": "e343124b",
   "metadata": {},
   "source": [
    "3. Define the Email Validation Function\n",
    "This is the core logic of the email_verifier.py script. It performs syntax checks, domain existence (A/AAAA records), and MX record lookups."
   ]
  },
  {
   "cell_type": "code",
   "execution_count": 5,
   "id": "33cace5e",
   "metadata": {},
   "outputs": [
    {
     "name": "stdout",
     "output_type": "stream",
     "text": [
      "Email validation function defined.\n"
     ]
    }
   ],
   "source": [
    "# Constants for email validation\n",
    "EMAIL_REGEX = r\"^[a-zA-Z0-9._%+-]+@[a-zA-Z0-9.-]+\\.[a-zA-Z]{2,}$\"\n",
    "\n",
    "def validate_email_address(email_address: str) -> str:\n",
    "    \"\"\"\n",
    "    Performs a series of checks to validate an email address.\n",
    "    Checks include syntax, domain existence (A/AAAA records), and MX records.\n",
    "\n",
    "    Args:\n",
    "        email_address (str): The email address to validate.\n",
    "\n",
    "    Returns:\n",
    "        str: A status string indicating the validation result (e.g., \"Valid\",\n",
    "             \"Invalid Syntax\", \"Domain Not Found\", \"No MX Records\", \"Error\").\n",
    "    \"\"\"\n",
    "    if not isinstance(email_address, str):\n",
    "        return \"Invalid Type\"\n",
    "    \n",
    "    email_address = email_address.strip()\n",
    "    if not email_address:\n",
    "        return \"Empty Email\"\n",
    "\n",
    "    # 1. Basic Regex Syntax Check\n",
    "    if not re.match(EMAIL_REGEX, email_address):\n",
    "        return \"Invalid Syntax\"\n",
    "\n",
    "    # Split email into local part and domain\n",
    "    try:\n",
    "        _, domain = email_address.split('@')\n",
    "    except ValueError:\n",
    "        return \"Invalid Format\"\n",
    "\n",
    "    # 2. Domain Existence Check (A or AAAA records) and MX Record Check\n",
    "    try:\n",
    "        # Check for A (IPv4) or AAAA (IPv6) records for the domain\n",
    "        try:\n",
    "            dns.resolver.resolve(domain, 'A')\n",
    "        except dns.resolver.NoAnswer:\n",
    "            try:\n",
    "                dns.resolver.resolve(domain, 'AAAA')\n",
    "            except dns.resolver.NoAnswer:\n",
    "                return \"Domain No A/AAAA Record\"\n",
    "        \n",
    "        # Check for MX (Mail Exchange) records\n",
    "        try:\n",
    "            dns.resolver.resolve(domain, 'MX')\n",
    "            return \"Valid\"\n",
    "        except dns.resolver.NoAnswer:\n",
    "            return \"No MX Records\"\n",
    "        except dns.resolver.NXDOMAIN:\n",
    "            return \"Domain Not Found\"\n",
    "        except dns.resolver.Timeout:\n",
    "            return \"DNS Timeout\"\n",
    "        except Exception as e:\n",
    "            return f\"DNS Error: {e}\"\n",
    "\n",
    "    except dns.resolver.NXDOMAIN:\n",
    "        return \"Domain Not Found\"\n",
    "    except dns.resolver.NoNameservers:\n",
    "        return \"No Nameservers\"\n",
    "    except dns.resolver.Timeout:\n",
    "        return \"DNS Timeout\"\n",
    "    except Exception as e:\n",
    "        return f\"Unexpected Error: {e}\"\n",
    "\n",
    "print(\"Email validation function defined.\")"
   ]
  },
  {
   "cell_type": "markdown",
   "id": "0623f958",
   "metadata": {},
   "source": [
    "4. Create Sample Data\n",
    "For demonstration purposes, let's create a sample_leads.csv file with a mix of valid and invalid email addresses. In a real scenario, you would use a CSV exported from SaaSquatch Leads."
   ]
  },
  {
   "cell_type": "code",
   "execution_count": 6,
   "id": "d8e18ca5",
   "metadata": {},
   "outputs": [
    {
     "name": "stdout",
     "output_type": "stream",
     "text": [
      "Sample leads created and saved to sample_leads.csv:\n",
      "            Name       Company                    Email Address         Phone\n",
      "0    Alice Smith      ABC Corp                alice@abccorp.com  123-456-7890\n",
      "1    Bob Johnson       XYZ Inc                   bob@xyzinc.com  098-765-4321\n",
      "2  Charlie Brown  Fictional Co  charlie@invaliddomainxyz123.com  555-123-4567\n",
      "3   Diana Prince    Wonder Ent             diana.prince@example  444-555-6666\n",
      "4      Eve Adams    Ghost Corp      eve@no-mx-record-domain.com  333-222-1111\n",
      "5    Frank White    Valid Tech            frank.white@gmail.com  111-222-3333\n",
      "6      Grace Lee    Service Co              grace@serviceco.org  222-333-4444\n",
      "7    Henry Green  Innovate Ltd      henry.green@innovateltd.net  777-888-9999\n",
      "8       Ivy King   Old Company             ivy@oldcompany.co.uk  999-000-1111\n",
      "9     Jack Black     Test Corp                 jack@testcorp.io  123-987-6543\n"
     ]
    }
   ],
   "source": [
    "data = {\n",
    "    'Name': ['Alice Smith', 'Bob Johnson', 'Charlie Brown', 'Diana Prince', 'Eve Adams', 'Frank White', 'Grace Lee', 'Henry Green', 'Ivy King', 'Jack Black'],\n",
    "    'Company': ['ABC Corp', 'XYZ Inc', 'Fictional Co', 'Wonder Ent', 'Ghost Corp', 'Valid Tech', 'Service Co', 'Innovate Ltd', 'Old Company', 'Test Corp'],\n",
    "    'Email Address': [\n",
    "        'alice@abccorp.com',              # Valid\n",
    "        'bob@xyzinc.com',                 # Valid\n",
    "        'charlie@invaliddomainxyz123.com',# Non-existent domain (will likely be 'Domain Not Found')\n",
    "        'diana.prince@example',           # Invalid syntax\n",
    "        'eve@no-mx-record-domain.com',    # Placeholder for a domain with no MX records (will likely be 'No MX Records')\n",
    "        'frank.white@gmail.com',          # Valid (common free email)\n",
    "        'grace@serviceco.org',            # Valid\n",
    "        'henry.green@innovateltd.net',    # Valid\n",
    "        'ivy@oldcompany.co.uk',           # Valid\n",
    "        'jack@testcorp.io'                # Valid\n",
    "    ],\n",
    "    'Phone': [\n",
    "        '123-456-7890', '098-765-4321', '555-123-4567', '444-555-6666',\n",
    "        '333-222-1111', '111-222-3333', '222-333-4444', '777-888-9999',\n",
    "        '999-000-1111', '123-987-6543'\n",
    "    ]\n",
    "}\n",
    "df_input = pd.DataFrame(data)\n",
    "input_filename = 'sample_leads.csv'\n",
    "df_input.to_csv(input_filename, index=False)\n",
    "\n",
    "\n",
    "print(f\"Sample leads created and saved to {input_filename}:\")\n",
    "print(df_input)"
   ]
  },
  {
   "cell_type": "markdown",
   "id": "0639b260",
   "metadata": {},
   "source": [
    "5. Apply Validation and Show Results\n",
    "Now, let's load the sample_leads.csv and apply our validate_email_address function to the \"Email Address\" column. The results will be stored in a new column."
   ]
  },
  {
   "cell_type": "code",
   "execution_count": 7,
   "id": "2beb0ce0",
   "metadata": {},
   "outputs": [
    {
     "name": "stdout",
     "output_type": "stream",
     "text": [
      "\n",
      "Validation complete. Results saved to: sample_leads_validated.csv\n",
      "\n",
      "Validated Leads (first few rows):\n",
      "            Name       Company                    Email Address         Phone  \\\n",
      "0    Alice Smith      ABC Corp                alice@abccorp.com  123-456-7890   \n",
      "1    Bob Johnson       XYZ Inc                   bob@xyzinc.com  098-765-4321   \n",
      "2  Charlie Brown  Fictional Co  charlie@invaliddomainxyz123.com  555-123-4567   \n",
      "3   Diana Prince    Wonder Ent             diana.prince@example  444-555-6666   \n",
      "4      Eve Adams    Ghost Corp      eve@no-mx-record-domain.com  333-222-1111   \n",
      "5    Frank White    Valid Tech            frank.white@gmail.com  111-222-3333   \n",
      "6      Grace Lee    Service Co              grace@serviceco.org  222-333-4444   \n",
      "7    Henry Green  Innovate Ltd      henry.green@innovateltd.net  777-888-9999   \n",
      "8       Ivy King   Old Company             ivy@oldcompany.co.uk  999-000-1111   \n",
      "9     Jack Black     Test Corp                 jack@testcorp.io  123-987-6543   \n",
      "\n",
      "  Email_Validation_Status  \n",
      "0          No Nameservers  \n",
      "1                   Valid  \n",
      "2        Domain Not Found  \n",
      "3          Invalid Syntax  \n",
      "4        Domain Not Found  \n",
      "5                   Valid  \n",
      "6           No MX Records  \n",
      "7        Domain Not Found  \n",
      "8        Domain Not Found  \n",
      "9        Domain Not Found  \n"
     ]
    }
   ],
   "source": [
    "# Load the dummy data\n",
    "df_leads = pd.read_csv(input_filename)\n",
    "\n",
    "# Apply the validation function to the specified column\n",
    "# .fillna('') is used to treat NaN values as empty strings for validation\n",
    "df_leads['Email_Validation_Status'] = df_leads['Email Address'].fillna('').apply(validate_email_address)\n",
    "\n",
    "# Define output filename\n",
    "output_filename = 'sample_leads_validated.csv'\n",
    "\n",
    "# Save the DataFrame with the new validation status to a new CSV file\n",
    "df_leads.to_csv(output_filename, index=False)\n",
    "\n",
    "print(f\"\\nValidation complete. Results saved to: {output_filename}\")\n",
    "print(\"\\nValidated Leads (first few rows):\")\n",
    "print(df_leads)"
   ]
  },
  {
   "cell_type": "markdown",
   "id": "56c897f6",
   "metadata": {},
   "source": [
    "6. Conclusion\n",
    "This Jupyter Notebook demonstrates the core functionality of the SaaSquatch Lead Quality Enhancer: Email Verifier. By providing clear validation statuses, this tool empowers sales and marketing teams to:\n",
    "\n",
    "Focus on genuinely reachable leads.\n",
    "\n",
    "Reduce wasted outreach efforts.\n",
    "\n",
    "Improve sender reputation.\n",
    "\n",
    "Enhance the overall quality and reliability of their lead database.\n",
    "\n",
    "This \"Quality First\" approach delivers significant business value by making lead generation efforts more efficient and effective."
   ]
  },
  {
   "cell_type": "code",
   "execution_count": null,
   "id": "bf96ed9f",
   "metadata": {},
   "outputs": [],
   "source": []
  }
 ],
 "metadata": {
  "kernelspec": {
   "display_name": "Python 3 (ipykernel)",
   "language": "python",
   "name": "python3"
  },
  "language_info": {
   "codemirror_mode": {
    "name": "ipython",
    "version": 3
   },
   "file_extension": ".py",
   "mimetype": "text/x-python",
   "name": "python",
   "nbconvert_exporter": "python",
   "pygments_lexer": "ipython3",
   "version": "3.11.5"
  }
 },
 "nbformat": 4,
 "nbformat_minor": 5
}
